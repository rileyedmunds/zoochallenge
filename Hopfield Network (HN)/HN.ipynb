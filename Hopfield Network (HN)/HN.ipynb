{
 "cells": [
  {
   "cell_type": "code",
   "execution_count": 1,
   "metadata": {
    "collapsed": true
   },
   "outputs": [],
   "source": [
    "import tensorflow as tf"
   ]
  },
  {
   "cell_type": "code",
   "execution_count": 2,
   "metadata": {
    "collapsed": true
   },
   "outputs": [],
   "source": [
    "#HOPFIELD NETWORK"
   ]
  },
  {
   "cell_type": "code",
   "execution_count": 1,
   "metadata": {
    "collapsed": true
   },
   "outputs": [],
   "source": [
    "#Form of RNN that serve as memory systems with nodes. They can be addresssed by content.\n",
    "    #guaranteed to converge to local minimum\n",
    "    #take on only two diff values, and value determined by whether unit's input threshold (binary threshold nodes)\n",
    "    #every pair of nodes has a weight\n",
    "    #energy: scalar value associated with each state of the network\n",
    "        #energy guaranteed to monotonically decrease!\n",
    "    \n",
    "    \n",
    "#Execution:\n",
    "    #set values of units to start pattern, then updates until converges to attractor patter\n",
    "    #should converge to global energy minimum (the stable state of network)\n",
    "    #Hebbian rule: \"Neurons that fire together, wire together. Neurons that fire out of sync, fail to link\"\n",
    "        #in Hopfield networks, strengthens weight (link) between neurons that fire together by setting it to the averaged sum of the simultaneous activations between those two neurons\n",
    "        \n",
    "    #Learning rules:\n",
    "        #local: neuron updates based on info available to neurons it touches\n",
    "        #incremental: model human brain increamental learning, not batch learn then test like ANN\n",
    "    \n",
    "#Notes:\n",
    "    #thresholds never updated, as opposed to perceptrons"
   ]
  }
 ],
 "metadata": {
  "anaconda-cloud": {},
  "kernelspec": {
   "display_name": "Python [default]",
   "language": "python",
   "name": "python3"
  },
  "language_info": {
   "codemirror_mode": {
    "name": "ipython",
    "version": 3
   },
   "file_extension": ".py",
   "mimetype": "text/x-python",
   "name": "python",
   "nbconvert_exporter": "python",
   "pygments_lexer": "ipython3",
   "version": "3.5.2"
  }
 },
 "nbformat": 4,
 "nbformat_minor": 1
}
