{
 "cells": [
  {
   "cell_type": "code",
   "execution_count": 2,
   "metadata": {
    "collapsed": false
   },
   "outputs": [],
   "source": [
    "#SETTING UP AN RBM\n",
    "import tensorflow as tf\n",
    "import numpy as np\n",
    "import tensorflow.examples.tutorials.mnist.input_data as input_data\n",
    "from PIL import Image\n",
    "from utils import tile_raster_images"
   ]
  },
  {
   "cell_type": "code",
   "execution_count": 3,
   "metadata": {
    "collapsed": true
   },
   "outputs": [],
   "source": [
    "#helper functions and constants\n",
    "def sample_prob(probs):\n",
    "    '''sample a probability distribtion (here, joint pdf)'''\n",
    "    return tf.nn.relu(\n",
    "        tf.sign(\n",
    "            probs - tf.random_uniform(tf.shape(probs))))\n",
    "\n",
    "alpha = 1.0\n",
    "batchsize = 100"
   ]
  },
  {
   "cell_type": "code",
   "execution_count": 4,
   "metadata": {
    "collapsed": false
   },
   "outputs": [
    {
     "name": "stdout",
     "output_type": "stream",
     "text": [
      "Extracting MNIST_data/train-images-idx3-ubyte.gz\n",
      "Extracting MNIST_data/train-labels-idx1-ubyte.gz\n",
      "Extracting MNIST_data/t10k-images-idx3-ubyte.gz\n",
      "Extracting MNIST_data/t10k-labels-idx1-ubyte.gz\n"
     ]
    }
   ],
   "source": [
    "#extracting, unpacking data\n",
    "mnist = input_data.read_data_sets(\"MNIST_data/\", one_hot=True)\n",
    "trX, trY, teX, teY = mnist.train.images, mnist.train.labels, mnist.test.images,\\\n",
    "    mnist.test.labels"
   ]
  },
  {
   "cell_type": "code",
   "execution_count": 5,
   "metadata": {
    "collapsed": true
   },
   "outputs": [],
   "source": [
    "#defining the network\n",
    "\n",
    "#visible and hidden layers\n",
    "X = tf.placeholder(\"float\", [None, 784])\n",
    "Y = tf.placeholder(\"float\", [None, 10])\n",
    "\n",
    "#weights, biases\n",
    "rbm_w = tf.placeholder(\"float\", [784, 500]) #shared weights\n",
    "rbm_vb = tf.placeholder(\"float\", [784]) #generative biases\n",
    "rbm_hb = tf.placeholder(\"float\", [500]) #discriminative biases"
   ]
  },
  {
   "cell_type": "code",
   "execution_count": 6,
   "metadata": {
    "collapsed": true
   },
   "outputs": [],
   "source": [
    "#activations with sampling for beginning h0, forward pass v1 (discriminative), and backward pass h1 (generative)\n",
    "h0 = sample_prob(tf.nn.sigmoid(tf.matmul(X, rbm_w) + rbm_hb))\n",
    "v1 = sample_prob(tf.nn.sigmoid(\n",
    "    tf.matmul(h0, tf.transpose(rbm_w)) + rbm_vb))\n",
    "h1 = tf.nn.sigmoid(tf.matmul(v1, rbm_w) + rbm_hb)\n",
    "\n",
    "#gradients and updates (need CD to approzimate log of intractable partition function!)\n",
    "w_positive_grad = tf.matmul(tf.transpose(X), h0)\n",
    "w_negative_grad = tf.matmul(tf.transpose(v1), h1)\n",
    "\n",
    "update_w = rbm_w + alpha * \\\n",
    "    (w_positive_grad - w_negative_grad) / tf.to_float(tf.shape(X)[0])\n",
    "update_vb = rbm_vb + alpha * tf.reduce_mean(X - v1, 0)\n",
    "update_hb = rbm_hb + alpha * tf.reduce_mean(h0 - h1, 0)\n",
    "\n",
    "#sampling probability distributions output from rbm on each end\n",
    "h_sample = sample_prob(tf.nn.sigmoid(tf.matmul(X, rbm_w) + rbm_hb)) #generative\n",
    "\n",
    "v_sample = sample_prob(tf.nn.sigmoid(\n",
    "    tf.matmul(h_sample, tf.transpose(rbm_w)) + rbm_vb)) #discriminative\n",
    "\n",
    "#error\n",
    "err = X - v_sample\n",
    "err_sum = tf.reduce_mean(err * err)\n",
    "\n",
    "#layer initializations to 0, could try normal\n",
    "n_vb = np.zeros([784], np.float32)\n",
    "o_vb = np.zeros([784], np.float32)\n",
    "\n",
    "n_hb = np.zeros([500], np.float32)\n",
    "o_hb = np.zeros([500], np.float32)\n",
    "\n",
    "n_w = np.zeros([784, 500], np.float32)\n",
    "o_w = np.zeros([784, 500], np.float32)"
   ]
  },
  {
   "cell_type": "code",
   "execution_count": 7,
   "metadata": {
    "collapsed": false
   },
   "outputs": [
    {
     "name": "stdout",
     "output_type": "stream",
     "text": [
      "0.481281\n",
      "0.242306\n",
      "0.0946451\n",
      "0.0789359\n",
      "0.0714885\n",
      "0.0677386\n",
      "0.0641841\n"
     ]
    }
   ],
   "source": [
    "#training the network\n",
    "with tf.Session() as sess:\n",
    "    #running the session, initializing\n",
    "    init = tf.global_variables_initializer()\n",
    "    sess.run(init)\n",
    "\n",
    "    print(sess.run(\n",
    "        err_sum, feed_dict={X: trX, rbm_w: o_w, rbm_vb: o_vb, rbm_hb: o_hb}))\n",
    "    \n",
    "    #running batches of 100\n",
    "    for start, end in zip(\n",
    "            range(0, len(trX), batchsize), range(batchsize, len(trX), batchsize)):\n",
    "        batch = trX[start:end]\n",
    "        \n",
    "        #updates for CD\n",
    "        n_w = sess.run(update_w, feed_dict={\n",
    "                       X: batch, rbm_w: o_w, rbm_vb: o_vb, rbm_hb: o_hb})\n",
    "        n_vb = sess.run(update_vb, feed_dict={\n",
    "                        X: batch, rbm_w: o_w, rbm_vb: o_vb, rbm_hb: o_hb})\n",
    "        n_hb = sess.run(update_hb, feed_dict={\n",
    "                        X: batch, rbm_w: o_w, rbm_vb: o_vb, rbm_hb: o_hb})\n",
    "        o_w = n_w\n",
    "        o_vb = n_vb\n",
    "        o_hb = n_hb\n",
    "        \n",
    "        #printing image and loss every 10,000\n",
    "        if start % 10000 == 0:\n",
    "            print(sess.run(\n",
    "                err_sum, feed_dict={X: trX, rbm_w: n_w, rbm_vb: n_vb, rbm_hb: n_hb}))\n",
    "            image = Image.fromarray(\n",
    "                tile_raster_images(\n",
    "                    X=n_w.T,\n",
    "                    img_shape=(28, 28),\n",
    "                    tile_shape=(25, 20),\n",
    "                    tile_spacing=(1, 1)\n",
    "                )\n",
    "            )\n",
    "\n",
    "    #display generated image at end of training\n",
    "    image.show()"
   ]
  }
 ],
 "metadata": {
  "anaconda-cloud": {},
  "kernelspec": {
   "display_name": "Python [default]",
   "language": "python",
   "name": "python3"
  },
  "language_info": {
   "codemirror_mode": {
    "name": "ipython",
    "version": 3
   },
   "file_extension": ".py",
   "mimetype": "text/x-python",
   "name": "python",
   "nbconvert_exporter": "python",
   "pygments_lexer": "ipython3",
   "version": "3.5.2"
  }
 },
 "nbformat": 4,
 "nbformat_minor": 1
}
