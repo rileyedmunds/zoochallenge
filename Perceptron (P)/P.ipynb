{
 "cells": [
  {
   "cell_type": "code",
   "execution_count": 90,
   "metadata": {
    "collapsed": true
   },
   "outputs": [],
   "source": [
    "#Perceptron to solve for OR, then XOR function"
   ]
  },
  {
   "cell_type": "code",
   "execution_count": 91,
   "metadata": {
    "collapsed": true
   },
   "outputs": [],
   "source": [
    "import tensorflow as tf\n",
    "import numpy as np\n",
    "import matplotlib.pyplot as plt"
   ]
  },
  {
   "cell_type": "code",
   "execution_count": 101,
   "metadata": {
    "collapsed": true
   },
   "outputs": [],
   "source": [
    "######################\n",
    "######   OR    ######\n",
    "#####################\n",
    "\n",
    "#first, a perceptron (using a manually defined step function) that solves for OR"
   ]
  },
  {
   "cell_type": "code",
   "execution_count": 103,
   "metadata": {
    "collapsed": true
   },
   "outputs": [],
   "source": [
    "#data is truth table for OR (data: input pairs; labels: output T/F values), with constant bias\n",
    "\n",
    "T, F = 1., -1.\n",
    "bias = 1.\n",
    "\n",
    "train_in = [\n",
    "    [T, T, bias],\n",
    "    [T, F, bias],\n",
    "    [F, T, bias],\n",
    "    [F, F, bias],\n",
    "]\n",
    "\n",
    "train_out = [\n",
    "    [T],\n",
    "    [T],\n",
    "    [T],\n",
    "    [F],\n",
    "]"
   ]
  },
  {
   "cell_type": "code",
   "execution_count": 93,
   "metadata": {
    "collapsed": true
   },
   "outputs": [],
   "source": [
    "#initilizing the weight tensor from a random distribution\n",
    "w = tf.Variable(tf.random_normal([3,1]))"
   ]
  },
  {
   "cell_type": "code",
   "execution_count": 94,
   "metadata": {
    "collapsed": false
   },
   "outputs": [],
   "source": [
    "#writing my own step function thresholded at 0\n",
    "def step(x):\n",
    "    condition = tf.greater(x,0)\n",
    "    as_float = tf.to_float(condition)\n",
    "    return tf.sub(tf.mul(as_float, 2), 1)"
   ]
  },
  {
   "cell_type": "code",
   "execution_count": 95,
   "metadata": {
    "collapsed": false
   },
   "outputs": [],
   "source": [
    "#setting up the model\n",
    "\n",
    "#forward pass through perceptron (weight matrix and step function)\n",
    "output = step(tf.matmul(train_in, w))\n",
    "\n",
    "#finding error and mse\n",
    "error = tf.sub(train_out, output)\n",
    "mse = tf.reduce_mean(tf.square(error))"
   ]
  },
  {
   "cell_type": "code",
   "execution_count": 96,
   "metadata": {
    "collapsed": false
   },
   "outputs": [],
   "source": [
    "#finding the delta to update the weights (rudimentary SGD)\n",
    "delta = tf.matmul(train_in, error, transpose_a=True)\n",
    "train = tf.assign(w, tf.add(w, delta))"
   ]
  },
  {
   "cell_type": "code",
   "execution_count": 97,
   "metadata": {
    "collapsed": true
   },
   "outputs": [],
   "source": [
    "#setting up TF\n",
    "sess = tf.Session()\n",
    "sess.run(tf.global_variables_initializer())"
   ]
  },
  {
   "cell_type": "code",
   "execution_count": 98,
   "metadata": {
    "collapsed": false
   },
   "outputs": [
    {
     "name": "stdout",
     "output_type": "stream",
     "text": [
      "epoch: 0 mse: 3.0\n",
      "epoch: 1 mse: 1.0\n",
      "epoch: 2 mse: 0.0\n"
     ]
    }
   ],
   "source": [
    "#for plotting\n",
    "epoch_set = []\n",
    "error_set = []\n",
    "\n",
    "#train 10 epochs (10 is plenty for convergence here)\n",
    "err, target = 1, 0\n",
    "for epoch in range(10):\n",
    "    if (err == target):\n",
    "        break\n",
    "    err, _ = sess.run([mse, train])\n",
    "    \n",
    "    #for plotting error\n",
    "    error_set = np.append(error_set, err)\n",
    "    epoch_set = np.append(epoch_set, epoch)\n",
    "        \n",
    "    print('epoch:', epoch, \"mse:\", err)"
   ]
  },
  {
   "cell_type": "code",
   "execution_count": 99,
   "metadata": {
    "collapsed": false
   },
   "outputs": [
    {
     "data": {
      "image/png": "[encoded data removed]",
      "text/plain": [
       "<matplotlib.figure.Figure at 0x1104f4940>"
      ]
     },
     "metadata": {},
     "output_type": "display_data"
    }
   ],
   "source": [
    "#plot error convergence as network trains\n",
    "plt.plot(epoch_set, error_set)\n",
    "plt.show()"
   ]
  },
  {
   "cell_type": "code",
   "execution_count": 105,
   "metadata": {
    "collapsed": true
   },
   "outputs": [],
   "source": [
    "#####################\n",
    "######   XOR   ######\n",
    "#####################\n",
    "\n",
    "#first, a multilayer perceptron (using tanh activation, and only two layers) that solves for XOR"
   ]
  },
  {
   "cell_type": "code",
   "execution_count": 106,
   "metadata": {
    "collapsed": true
   },
   "outputs": [],
   "source": [
    "#data is truth table for XOR (data: input pairs; labels: output T/F values)\n",
    "\n",
    "T, F = 1., -1.\n",
    "\n",
    "train_in = [\n",
    " [T, T],\n",
    " [T, F],\n",
    " [F, T],\n",
    " [F, F],\n",
    "]\n",
    "\n",
    "train_out = [\n",
    " [F],\n",
    " [T],\n",
    " [T],\n",
    " [F],\n",
    "]"
   ]
  },
  {
   "cell_type": "code",
   "execution_count": 107,
   "metadata": {
    "collapsed": false
   },
   "outputs": [],
   "source": [
    "#this model has a hidden layer because XOR is more complex than OR\n",
    "\n",
    "w1 = tf.Variable(tf.random_normal([2,2]))\n",
    "b1 = tf.Variable(tf.zeros([2]))\n",
    "\n",
    "w2 = tf.Variable(tf.random_normal([2,1]))\n",
    "b2 = tf.Variable(tf.zeros([1]))\n",
    "\n",
    "\n",
    "out1 = tf.tanh(tf.add(tf.matmul(train_in, w1), b1))\n",
    "out2 = tf.tanh(tf.add(tf.matmul(out1, w2), b2))\n",
    "\n",
    "#finding error and mse\n",
    "error = tf.sub(train_out, out2)\n",
    "mse = tf.reduce_mean(tf.square(error))"
   ]
  },
  {
   "cell_type": "code",
   "execution_count": 113,
   "metadata": {
    "collapsed": true
   },
   "outputs": [],
   "source": [
    "#using SGD as my optimizer (not writing deltas by hand as done for OR)\n",
    "train = tf.train.GradientDescentOptimizer(0.1).minimize(mse)"
   ]
  },
  {
   "cell_type": "code",
   "execution_count": 114,
   "metadata": {
    "collapsed": false
   },
   "outputs": [
    {
     "name": "stdout",
     "output_type": "stream",
     "text": [
      "epoch: 818 mse: 0.00995112\n"
     ]
    }
   ],
   "source": [
    "#for plotting\n",
    "error_set = []\n",
    "epoch_set = []\n",
    "\n",
    "#training epochs\n",
    "with tf.Session() as sess:\n",
    "    sess.run(tf.global_variables_initializer())\n",
    "    \n",
    "    err, target = 1, 0.01\n",
    "    epoch, max_epochs = 0, 5000\n",
    "    while err > target and epoch < max_epochs:\n",
    "        epoch += 1\n",
    "        err, _ = sess.run([mse, train])\n",
    "        \n",
    "        #for plotting error\n",
    "        error_set = np.append(error_set, err)\n",
    "        epoch_set = np.append(epoch_set, epoch)\n",
    "\n",
    "        \n",
    "    print('epoch:', epoch, 'mse:', err)"
   ]
  },
  {
   "cell_type": "code",
   "execution_count": 115,
   "metadata": {
    "collapsed": false
   },
   "outputs": [
    {
     "data": {
      "image/png": "[encoded data removed]",
      "text/plain": [
       "<matplotlib.figure.Figure at 0x1104d7080>"
      ]
     },
     "metadata": {},
     "output_type": "display_data"
    }
   ],
   "source": [
    "#plot error convergence as network trains\n",
    "plt.plot(epoch_set, error_set)\n",
    "plt.show()"
   ]
  }
 ],
 "metadata": {
  "anaconda-cloud": {},
  "kernelspec": {
   "display_name": "Python [default]",
   "language": "python",
   "name": "python3"
  },
  "language_info": {
   "codemirror_mode": {
    "name": "ipython",
    "version": 3
   },
   "file_extension": ".py",
   "mimetype": "text/x-python",
   "name": "python",
   "nbconvert_exporter": "python",
   "pygments_lexer": "ipython3",
   "version": "3.5.2"
  }
 },
 "nbformat": 4,
 "nbformat_minor": 1
}
