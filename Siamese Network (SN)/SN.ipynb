{
 "cells": [
  {
   "cell_type": "code",
   "execution_count": 1,
   "metadata": {
    "collapsed": true
   },
   "outputs": [],
   "source": [
    "#Siamese Network on MNIST"
   ]
  },
  {
   "cell_type": "code",
   "execution_count": 2,
   "metadata": {
    "collapsed": true
   },
   "outputs": [],
   "source": [
    "#imports\n",
    "from __future__ import absolute_import\n",
    "from __future__ import division\n",
    "from __future__ import print_function\n",
    "import tensorflow as tf \n",
    "from tensorflow.examples.tutorials.mnist import input_data # for data\n",
    "import tensorflow as tf\n",
    "import numpy as np\n",
    "import os"
   ]
  },
  {
   "cell_type": "code",
   "execution_count": 3,
   "metadata": {
    "collapsed": false
   },
   "outputs": [
    {
     "name": "stdout",
     "output_type": "stream",
     "text": [
      "Extracting ../Data/MNIST/train-images-idx3-ubyte.gz\n",
      "Extracting ../Data/MNIST/train-labels-idx1-ubyte.gz\n",
      "Extracting ../Data/MNIST/t10k-images-idx3-ubyte.gz\n",
      "Extracting ../Data/MNIST/t10k-labels-idx1-ubyte.gz\n"
     ]
    }
   ],
   "source": [
    "#importing mnist dataset as a tf dataset\n",
    "mnist = input_data.read_data_sets(\"../Data/MNIST/\", one_hot=False)"
   ]
  },
  {
   "cell_type": "code",
   "execution_count": 4,
   "metadata": {
    "collapsed": false
   },
   "outputs": [],
   "source": [
    "#functions to set up the model\n",
    "def twin_net(x):\n",
    "    '''set up one instance of twin network\n",
    "                1024 -> 1024 -> 2       '''\n",
    "    #layer 1\n",
    "    fc1 = make_fc(x, 1024, \"fc1\")\n",
    "    activ1 = tf.nn.relu(fc1)\n",
    "    #layer2\n",
    "    fc2 = make_fc(activ1, 1024, \"fc2\")\n",
    "    activ2 = tf.nn.relu(fc2)\n",
    "     #layer3\n",
    "    fc3 = make_fc(activ2, 2, \"fc3\")\n",
    "    \n",
    "    return fc3\n",
    "\n",
    "#create an affine layer\n",
    "def make_fc(bottom, n_weight, name):\n",
    "    '''return speccified fc layer w/ correct sizing, normal weights, constant bias'''\n",
    "    prev_shape = bottom.get_shape()[1]\n",
    "    W = tf.get_variable(name=name+'_W', dtype=tf.float32, shape=[prev_shape, n_weight], initializer=tf.truncated_normal_initializer(stddev=0.01))\n",
    "    b = tf.get_variable(name=name+'_b', dtype=tf.float32, initializer=tf.constant(value=0.01, shape=[n_weight], dtype=tf.float32))\n",
    "    fc = tf.nn.bias_add(tf.matmul(bottom, W), b)\n",
    "    \n",
    "    return fc\n",
    "    \n",
    "def contrastive_loss():\n",
    "    '''spring-like loss function comparing output from twin nets\n",
    "    --> on learned manifold, similar inputs map to nearby points'''\n",
    "    #pos loss: (1/2N) * SUM[1toN](y)* d^2 [ <-- summation is eucd^2]\n",
    "    labels_t = y_  #bool: do labels match \n",
    "    eucd2 = tf.reduce_sum(tf.pow(tf.sub(o1, o2), 2), 1) #squared eucd between nets\n",
    "        #loss:\n",
    "        \n",
    "    print(labels_t)\n",
    "    print('labels, then eucd2')\n",
    "    print(eucd2)\n",
    "    \n",
    "    pos = tf.mul(labels_t, eucd2)\n",
    "\n",
    "    #neg loss: (1-y)*max(margin-d, 0)^2\n",
    "    labels_f = tf.sub(1., y_) #1-y\n",
    "    eucd = tf.sqrt(eucd2+1e-6)\n",
    "    margin = 5.0\n",
    "    C = tf.constant(value=margin)\n",
    "        #loss:\n",
    "    neg = tf.mul(labels_f, tf.pow(tf.maximum(tf.sub(C, eucd), 0), 2))\n",
    "    \n",
    "    #full loss:\n",
    "    loss = tf.reduce_mean(tf.add(pos, neg))\n",
    "    return loss"
   ]
  },
  {
   "cell_type": "code",
   "execution_count": 5,
   "metadata": {
    "collapsed": false
   },
   "outputs": [
    {
     "name": "stdout",
     "output_type": "stream",
     "text": [
      "Tensor(\"Placeholder_2:0\", shape=(?,), dtype=float32)\n",
      "labels, then eucd2\n",
      "Tensor(\"Sum:0\", shape=(?,), dtype=float32)\n"
     ]
    }
   ],
   "source": [
    "#set up the model graph structure (connect nets)\n",
    "'''sets up entire siamese net (including twin nets and loss)'''\n",
    "x1 = tf.placeholder(tf.float32, [None, 784])\n",
    "x2 = tf.placeholder(tf.float32, [None, 784])\n",
    "\n",
    "with tf.variable_scope(\"siamese\") as scope:\n",
    "    o1 = twin_net(x1)\n",
    "    scope.reuse_variables()\n",
    "    o2 = twin_net(x2)\n",
    "\n",
    "y_ = tf.placeholder(tf.float32, shape=[None])\n",
    "loss = contrastive_loss()\n",
    "train_step = tf.train.AdamOptimizer(learning_rate=0.01).minimize(loss)"
   ]
  },
  {
   "cell_type": "code",
   "execution_count": 6,
   "metadata": {
    "collapsed": false
   },
   "outputs": [
    {
     "name": "stdout",
     "output_type": "stream",
     "text": [
      "step:  0  loss:  22.0316\n",
      "step:  10  loss:  5.96099\n",
      "step:  20  loss:  3.24791\n",
      "step:  30  loss:  4.37663\n",
      "step:  40  loss:  2.58985\n",
      "step:  50  loss:  3.52402\n",
      "step:  60  loss:  3.24331\n",
      "step:  70  loss:  2.1561\n",
      "step:  80  loss:  2.27975\n",
      "step:  90  loss:  4.27361\n",
      "step:  100  loss:  1.24406\n",
      "step:  110  loss:  2.42629\n",
      "step:  120  loss:  1.84622\n",
      "step:  130  loss:  4.79048\n",
      "step:  140  loss:  1.91941\n",
      "step:  150  loss:  1.60626\n",
      "step:  160  loss:  2.28839\n",
      "step:  170  loss:  1.71239\n",
      "step:  180  loss:  1.93491\n",
      "step:  190  loss:  1.79431\n",
      "step:  200  loss:  1.50502\n",
      "step:  210  loss:  1.31518\n",
      "step:  220  loss:  1.99306\n",
      "step:  230  loss:  1.84916\n",
      "step:  240  loss:  2.23657\n",
      "step:  250  loss:  2.66332\n",
      "step:  260  loss:  1.74874\n",
      "step:  270  loss:  1.92357\n",
      "step:  280  loss:  1.51037\n",
      "step:  290  loss:  2.40957\n",
      "step:  300  loss:  1.6371\n",
      "step:  310  loss:  1.24399\n",
      "step:  320  loss:  2.51341\n",
      "step:  330  loss:  1.22475\n",
      "step:  340  loss:  2.39137\n",
      "step:  350  loss:  2.26066\n",
      "step:  360  loss:  2.27326\n",
      "step:  370  loss:  0.757243\n",
      "step:  380  loss:  1.54292\n",
      "step:  390  loss:  0.775113\n",
      "step:  400  loss:  1.08378\n",
      "step:  410  loss:  1.21851\n",
      "step:  420  loss:  2.32385\n",
      "step:  430  loss:  1.50048\n",
      "step:  440  loss:  1.47281\n",
      "step:  450  loss:  1.36863\n",
      "step:  460  loss:  1.12355\n",
      "step:  470  loss:  1.06834\n",
      "step:  480  loss:  1.32761\n",
      "step:  490  loss:  1.63595\n"
     ]
    }
   ],
   "source": [
    "#execution of graph\n",
    "init = tf.global_variables_initializer()\n",
    "with tf.Session() as sess:\n",
    "    sess.run(init)\n",
    "    \n",
    "    #run model:\n",
    "    for it in range(500):\n",
    "        batch_x1, batch_y1 = mnist.train.next_batch(128) #net 1\n",
    "        batch_x2, batch_y2 = mnist.train.next_batch(128) #net 2\n",
    "        batch_y = (batch_y1 == batch_y2).astype('float') #comparison for contrastive loss\n",
    "              \n",
    "        _, loss_v = sess.run([train_step, loss], feed_dict ={\n",
    "                x1:batch_x1, \n",
    "                x2:batch_x2, \n",
    "                y_:batch_y})\n",
    "    \n",
    "        #printing intermediate results:\n",
    "        if (it % 10 == 0): \n",
    "            print(\"step: \", it, \" loss: \", loss_v)"
   ]
  },
  {
   "cell_type": "code",
   "execution_count": null,
   "metadata": {
    "collapsed": true
   },
   "outputs": [],
   "source": []
  }
 ],
 "metadata": {
  "anaconda-cloud": {},
  "kernelspec": {
   "display_name": "Python [default]",
   "language": "python",
   "name": "python3"
  },
  "language_info": {
   "codemirror_mode": {
    "name": "ipython",
    "version": 3
   },
   "file_extension": ".py",
   "mimetype": "text/x-python",
   "name": "python",
   "nbconvert_exporter": "python",
   "pygments_lexer": "ipython3",
   "version": "3.5.2"
  }
 },
 "nbformat": 4,
 "nbformat_minor": 1
}
