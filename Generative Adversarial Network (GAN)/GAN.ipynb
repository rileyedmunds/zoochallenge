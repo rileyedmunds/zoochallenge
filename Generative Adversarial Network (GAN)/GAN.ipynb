{
 "cells": [
  {
   "cell_type": "code",
   "execution_count": 1,
   "metadata": {
    "collapsed": true
   },
   "outputs": [],
   "source": [
    "###IN PROGRESS\n",
    "\n",
    "#Generative Adversarial Network on MNIST"
   ]
  },
  {
   "cell_type": "code",
   "execution_count": 2,
   "metadata": {
    "collapsed": false
   },
   "outputs": [],
   "source": [
    "#imports\n",
    "import tensorflow as tf\n",
    "from tensorflow.examples.tutorials.mnist import input_data\n",
    "import numpy as np\n",
    "import matplotlib.pyplot as plt\n",
    "import matplotlib.gridspec as gridspec\n",
    "import os"
   ]
  },
  {
   "cell_type": "code",
   "execution_count": 3,
   "metadata": {
    "collapsed": false
   },
   "outputs": [],
   "source": [
    "#inputs and layers\n",
    "x = tf.placeholder(\"float\", shape=[None, 784]) #input to discriminator\n",
    "Z = tf.placeholder (\"float\", shape=[None, 100]) #input to generator\n"
   ]
  },
  {
   "cell_type": "code",
   "execution_count": 8,
   "metadata": {
    "collapsed": true
   },
   "outputs": [],
   "source": [
    "#####################\n",
    "### DISCRIMINATOR ###\n",
    "#####################\n",
    "\n",
    "#784 -> 128 -> 1 \n",
    "d_w1 = tf.Variable(tf.random_normal(shape=[784, 128]))\n",
    "d_b1 = tf.Variable(tf.zeros(shape=128))\n",
    "\n",
    "d_w2 = tf.Variable(tf.random_normal(shape=[128, 1]))\n",
    "d_b2 = tf.Variable(tf.zeros(shape=1))\n",
    "\n",
    "#for backprop\n",
    "theta_d = [d_w1, d_w2, d_b1, d_b2]\n",
    "\n",
    "#construct discriminator\n",
    "def discriminator(x):\n",
    "    '''feedforward discriminator'''\n",
    "    d_h1 = tf.nn.relu(tf.matmul(x, d_w1) + d_b1)\n",
    "    d_logistic = tf.matmul(d_h1, d_w2) + d_b2\n",
    "    d_prob = tf.nn.sigmoid(d_logistic) #probability that input is real\n",
    "    \n",
    "    return d_prob, d_logistic"
   ]
  },
  {
   "cell_type": "code",
   "execution_count": 9,
   "metadata": {
    "collapsed": true
   },
   "outputs": [],
   "source": [
    "########################\n",
    "### DC DISCRIMINATOR ###\n",
    "########################\n",
    "\n",
    "#784 -> conv -> conv -> 128 -> 1\n",
    "dc_d_w1 = tf.Variable(tf.random_normal([5, 5, 1, 16]))\n",
    "dc_d_b1 = tf.Variable(tf.zeros(shape=[16]))\n",
    "\n",
    "dc_d_w2 = tf.Variable(tf.random_normal([3, 3, 16, 32]))\n",
    "dc_d_b2 = tf.Variable(tf.zeros(shape=[32]))\n",
    "\n",
    "dc_d_w3 = tf.Variable(tf.random_normal([7*7*32, 128]))\n",
    "dc_d_b3 = tf.Variable(tf.zeros(shape=[128]))\n",
    "\n",
    "dc_d_w4 = tf.Variable(tf.random_normal([128, 1]))\n",
    "dc_d_b4 = tf.Variable(tf.zeros(shape=[1]))\n",
    "\n",
    "#for backprop\n",
    "theta_dc_c = [dc_d_w1, dc_d_b1, dc_d_w2, dc_d_b2, dc_d_w3, dc_d_b3, dc_d_w4, dc_d_b4]\n",
    "\n",
    "def dc_discriminator(x):\n",
    "    '''deep convolutional feedforward discriminator'''\n",
    "    x = tf.reshape(x, shape = [-1, 28, 28, -1])\n",
    "    conv1 = tf.nn.relu(tf.nn.conv2d(x, dc_d_w1, strides=[1, 2, 2, 1], padding ='SAME' + dc_d_b1))\n",
    "    conv2 = tf.nn.relu(tf.nn.conv2d(conv1, dc_d_w2, strides=[1, 2, 2, 1], padding ='SAME' + dc_d_b2))\n",
    "    conv2_out = tf.reshape(conv2, shape=[-1, 7*7*32])\n",
    "    h3 = tf.nn.relu(tf.matmul(conv2_out, dc_d_w3) + dc_d_b3)\n",
    "    dc_logistic = tf.matmul(h, dc_d_w4) + dc_d_b4\n",
    "    dc_prob = tf.nn.sigmoid(dc_logistic)\n",
    "    \n",
    "    return dc_prob, dc_logistic"
   ]
  },
  {
   "cell_type": "code",
   "execution_count": 6,
   "metadata": {
    "collapsed": true
   },
   "outputs": [],
   "source": [
    "#####################\n",
    "###   GENERATOR   ###\n",
    "#####################\n",
    "\n",
    "#100 -> 128 -> 784 (MNIST image)\n",
    "g_w1 = tf.Variable(tf.random_normal([100, 128]))\n",
    "g_b1 = tf.Variable(tf.zeros(shape=[128]))\n",
    "\n",
    "g_w2 = tf.Variable(tf.random_normal([128, 784]))\n",
    "g_b2 = tf.Variable(tf.zeros(shape=[784]))\n",
    "\n",
    "\n",
    "def generator(z):\n",
    "    g_h1 = tf.nn.relu(tf.matmul(z, g_w1) + g_b1)\n",
    "    g_logistic = tf.matmul(g_h1, g_w2) + g_b2\n",
    "    g_prob = tf.nn.sigmoid(g_logistic)\n",
    "    \n",
    "    return g_prob\n",
    "    "
   ]
  }
 ],
 "metadata": {
  "anaconda-cloud": {},
  "kernelspec": {
   "display_name": "Python [default]",
   "language": "python",
   "name": "python3"
  },
  "language_info": {
   "codemirror_mode": {
    "name": "ipython",
    "version": 3
   },
   "file_extension": ".py",
   "mimetype": "text/x-python",
   "name": "python",
   "nbconvert_exporter": "python",
   "pygments_lexer": "ipython3",
   "version": "3.5.2"
  }
 },
 "nbformat": 4,
 "nbformat_minor": 1
}
