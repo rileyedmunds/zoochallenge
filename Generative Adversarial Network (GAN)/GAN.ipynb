{
 "cells": [
  {
   "cell_type": "code",
   "execution_count": 1,
   "metadata": {
    "collapsed": true
   },
   "outputs": [],
   "source": [
    "###IN PROGRESS\n",
    "\n",
    "#Generative Adversarial Network on MNIST"
   ]
  },
  {
   "cell_type": "code",
   "execution_count": 3,
   "metadata": {
    "collapsed": false
   },
   "outputs": [],
   "source": [
    "#imports\n",
    "import tensorflow as tf\n",
    "from tensorflow.examples.tutorials.mnist import input_data\n",
    "import numpy as np\n",
    "import matplotlib.pyplot as plt\n",
    "import matplotlib.gridspec as gridspec\n",
    "import os"
   ]
  },
  {
   "cell_type": "code",
   "execution_count": 7,
   "metadata": {
    "collapsed": false
   },
   "outputs": [],
   "source": [
    "#inputs and layers\n",
    "x = tf.placeholder(\"float\", shape=[None, 784])\n",
    "\n",
    "#####################\n",
    "### DISCRIMINATOR ###\n",
    "#####################\n",
    "\n",
    "#784 -> 128 -> 1\n",
    "d_w1 = tf.Variable(tf.random_normal(shape=[784, 128]))\n",
    "d_b1 = tf.Variable(tf.zeros(shape=128))\n",
    "\n",
    "d_w2 = tf.Variable(tf.random_normal(shape=[128, 1]))\n",
    "d_b2 = tf.Variable(tf.zeros(shape=1))\n",
    "\n",
    "theta_D = [d_w1, d_w2, d_b1, d_b2]\n",
    "\n",
    "\n",
    "#####################\n",
    "###   GENERATOR   ###\n",
    "#####################\n",
    "\n"
   ]
  }
 ],
 "metadata": {
  "anaconda-cloud": {},
  "kernelspec": {
   "display_name": "Python [default]",
   "language": "python",
   "name": "python3"
  },
  "language_info": {
   "codemirror_mode": {
    "name": "ipython",
    "version": 3
   },
   "file_extension": ".py",
   "mimetype": "text/x-python",
   "name": "python",
   "nbconvert_exporter": "python",
   "pygments_lexer": "ipython3",
   "version": "3.5.2"
  }
 },
 "nbformat": 4,
 "nbformat_minor": 1
}
