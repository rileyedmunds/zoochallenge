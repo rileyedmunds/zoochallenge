{
 "cells": [
  {
   "cell_type": "code",
   "execution_count": 44,
   "metadata": {
    "collapsed": false
   },
   "outputs": [],
   "source": [
    "#Hidden Markov Model solution using Viterbi Algorithm\n",
    "\n",
    "import tensorflow as tf\n",
    "import numpy as np\n",
    "from __future__ import print_function\n",
    "import matplotlib.pyplot as plt\n",
    "import seaborn as sns\n",
    "import pandas as pd\n",
    "%matplotlib inline\n",
    "\n",
    "#hidden markov model library for TF\n",
    "from HiddenMarkovModel import HiddenMarkovModel"
   ]
  },
  {
   "cell_type": "code",
   "execution_count": 45,
   "metadata": {
    "collapsed": true
   },
   "outputs": [],
   "source": [
    "#defining model parameters for healthy and fever example\n",
    "\n",
    "#initial distribution\n",
    "p0 = np.array([0.6, 0.4])\n",
    "\n",
    "emissions = np.array([[0.5, 0.1],\n",
    "                      [0.4, 0.3],\n",
    "                      [0.1, 0.6]])\n",
    "\n",
    "transitions = np.array([[0.7, 0.3],\n",
    "                        [0.4, 0.6]])\n",
    "\n",
    "#dataframes from numpy arrays\n",
    "df_p0 = pd.DataFrame(p0, index=[\"Healthy\", \"Fever\"], columns=[\"Prob\"])\n",
    "df_emi = pd.DataFrame(emissions, index=[\"Normal\", \"Cold\", \"Dizzy\"], columns=[\"Healthy\", \"Fever\"])\n",
    "df_trans = pd.DataFrame(transitions, index = [\"fromH\", \"fromF\"], columns=[\"toH\", \"toF\"])"
   ]
  },
  {
   "cell_type": "code",
   "execution_count": 46,
   "metadata": {
    "collapsed": false
   },
   "outputs": [],
   "source": [
    "#creating some data to work with\n",
    "\n",
    "\n",
    "#observation sequence\n",
    "seq = np.array([0,1,1,2,1,0,0,0,2,1])\n",
    "\n",
    "#parametrization\n",
    "states = {0: \"Healthy\", 1: \"Fever\"}\n",
    "obs = {0:\"normal\", 1:\"cold\", 2:\"dizzy\"}\n",
    "\n",
    "\n",
    "#creating hmm model\n",
    "model = HiddenMarkovModel(E=emissions, T0=p0, T=transitions)"
   ]
  },
  {
   "cell_type": "code",
   "execution_count": 47,
   "metadata": {
    "collapsed": false
   },
   "outputs": [
    {
     "name": "stdout",
     "output_type": "stream",
     "text": [
      "WARNING:tensorflow:From /Users/rileyedmunds/zoo/Markov Chain (MC)/HiddenMarkovModel.py:122 in run_viterbi.: initialize_all_variables (from tensorflow.python.ops.variables) is deprecated and will be removed after 2017-03-02.\n",
      "Instructions for updating:\n",
      "Use `tf.global_variables_initializer` instead.\n"
     ]
    }
   ],
   "source": [
    "#run the model as defined in HMM module\n",
    "states_seq, state_prob = model.run_viterbi(seq)"
   ]
  },
  {
   "cell_type": "code",
   "execution_count": 58,
   "metadata": {
    "collapsed": false
   },
   "outputs": [],
   "source": [
    "#\n",
    "df = pd.DataFrame(state_prob.T, index=[\"Healthy\", \"Fever\"])"
   ]
  },
  {
   "cell_type": "code",
   "execution_count": 57,
   "metadata": {
    "collapsed": false
   },
   "outputs": [
    {
     "name": "stdout",
     "output_type": "stream",
     "text": [
      "Sequence of observations is:  ['normal', 'cold', 'cold', 'dizzy', 'cold', 'normal', 'normal', 'normal', 'dizzy', 'cold']\n",
      "Most likely states:  ['Healthy', 'Healthy', 'Healthy', 'Fever', 'Healthy', 'Healthy', 'Healthy', 'Healthy', 'Fever', 'Fever']\n"
     ]
    },
    {
     "data": {
      "text/html": [
       "<div>\n",
       "<table border=\"1\" class=\"dataframe\">\n",
       "  <thead>\n",
       "    <tr style=\"text-align: right;\">\n",
       "      <th></th>\n",
       "      <th>0</th>\n",
       "      <th>1</th>\n",
       "      <th>2</th>\n",
       "      <th>3</th>\n",
       "      <th>4</th>\n",
       "      <th>5</th>\n",
       "      <th>6</th>\n",
       "      <th>7</th>\n",
       "      <th>8</th>\n",
       "      <th>9</th>\n",
       "    </tr>\n",
       "  </thead>\n",
       "  <tbody>\n",
       "    <tr>\n",
       "      <th>Healthy</th>\n",
       "      <td>0.30</td>\n",
       "      <td>0.084</td>\n",
       "      <td>0.02352</td>\n",
       "      <td>0.001646</td>\n",
       "      <td>0.000677</td>\n",
       "      <td>0.000237</td>\n",
       "      <td>0.000083</td>\n",
       "      <td>0.000029</td>\n",
       "      <td>0.000002</td>\n",
       "      <td>8.364239e-07</td>\n",
       "    </tr>\n",
       "    <tr>\n",
       "      <th>Fever</th>\n",
       "      <td>0.04</td>\n",
       "      <td>0.027</td>\n",
       "      <td>0.00756</td>\n",
       "      <td>0.004234</td>\n",
       "      <td>0.000762</td>\n",
       "      <td>0.000046</td>\n",
       "      <td>0.000007</td>\n",
       "      <td>0.000002</td>\n",
       "      <td>0.000005</td>\n",
       "      <td>9.409769e-07</td>\n",
       "    </tr>\n",
       "  </tbody>\n",
       "</table>\n",
       "</div>"
      ],
      "text/plain": [
       "            0      1        2         3         4         5         6  \\\n",
       "Healthy  0.30  0.084  0.02352  0.001646  0.000677  0.000237  0.000083   \n",
       "Fever    0.04  0.027  0.00756  0.004234  0.000762  0.000046  0.000007   \n",
       "\n",
       "                7         8             9  \n",
       "Healthy  0.000029  0.000002  8.364239e-07  \n",
       "Fever    0.000002  0.000005  9.409769e-07  "
      ]
     },
     "execution_count": 57,
     "metadata": {},
     "output_type": "execute_result"
    }
   ],
   "source": [
    "#displaying results\n",
    "print(\"Sequence of observations is: \", [obs[i] for i in seq])\n",
    "print(\"Most likely states: \", [states[s] for s in states_seq])\n",
    "df"
   ]
  }
 ],
 "metadata": {
  "anaconda-cloud": {},
  "kernelspec": {
   "display_name": "Python [default]",
   "language": "python",
   "name": "python3"
  },
  "language_info": {
   "codemirror_mode": {
    "name": "ipython",
    "version": 3
   },
   "file_extension": ".py",
   "mimetype": "text/x-python",
   "name": "python",
   "nbconvert_exporter": "python",
   "pygments_lexer": "ipython3",
   "version": "3.5.2"
  }
 },
 "nbformat": 4,
 "nbformat_minor": 1
}
